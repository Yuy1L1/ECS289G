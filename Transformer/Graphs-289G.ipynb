{
 "cells": [
  {
   "cell_type": "code",
   "execution_count": 156,
   "id": "624731aa",
   "metadata": {},
   "outputs": [],
   "source": [
    "import pandas as pd\n",
    "import numpy as np\n",
    "import matplotlib.pyplot as plt\n",
    "import seaborn as sns\n",
    "import matplotlib.patches as mpatches"
   ]
  },
  {
   "cell_type": "code",
   "execution_count": 27,
   "id": "af922afd",
   "metadata": {},
   "outputs": [],
   "source": [
    "df_data = {'A': np.random.randint(20, 50, 5),\n",
    "           'B': np.random.randint(10, 50, 5),\n",
    "           'C': np.random.randint(30, 50, 5),\n",
    "          'D': np.random.randint(30, 50, 5)}\n",
    "df2_data = {'A': np.random.randint(20, 50, 5),\n",
    "            'B': np.random.randint(10, 50, 5),\n",
    "            'C': np.random.randint(30, 50, 5),\n",
    "           'D': np.random.randint(30, 50, 5)}\n",
    "df3_data = {'A': np.random.randint(20, 50, 5),\n",
    "            'B': np.random.randint(10, 50, 5),\n",
    "            'C': np.random.randint(30, 50, 5),\n",
    "           'D': np.random.randint(30, 50, 5)}\n",
    "\n",
    "df = pd.DataFrame(data=df_data)\n",
    "df2 = pd.DataFrame(data=df2_data)\n",
    "df3 = pd.DataFrame(data=df3_data)"
   ]
  },
  {
   "cell_type": "code",
   "execution_count": 44,
   "id": "79a45495",
   "metadata": {},
   "outputs": [
    {
     "data": {
      "text/html": [
       "<div>\n",
       "<style scoped>\n",
       "    .dataframe tbody tr th:only-of-type {\n",
       "        vertical-align: middle;\n",
       "    }\n",
       "\n",
       "    .dataframe tbody tr th {\n",
       "        vertical-align: top;\n",
       "    }\n",
       "\n",
       "    .dataframe thead th {\n",
       "        text-align: right;\n",
       "    }\n",
       "</style>\n",
       "<table border=\"1\" class=\"dataframe\">\n",
       "  <thead>\n",
       "    <tr style=\"text-align: right;\">\n",
       "      <th></th>\n",
       "      <th>variable</th>\n",
       "      <th>value</th>\n",
       "    </tr>\n",
       "  </thead>\n",
       "  <tbody>\n",
       "    <tr>\n",
       "      <th>0</th>\n",
       "      <td>A</td>\n",
       "      <td>33</td>\n",
       "    </tr>\n",
       "    <tr>\n",
       "      <th>1</th>\n",
       "      <td>A</td>\n",
       "      <td>47</td>\n",
       "    </tr>\n",
       "    <tr>\n",
       "      <th>2</th>\n",
       "      <td>A</td>\n",
       "      <td>29</td>\n",
       "    </tr>\n",
       "    <tr>\n",
       "      <th>3</th>\n",
       "      <td>A</td>\n",
       "      <td>35</td>\n",
       "    </tr>\n",
       "    <tr>\n",
       "      <th>4</th>\n",
       "      <td>A</td>\n",
       "      <td>24</td>\n",
       "    </tr>\n",
       "    <tr>\n",
       "      <th>0</th>\n",
       "      <td>B</td>\n",
       "      <td>34</td>\n",
       "    </tr>\n",
       "    <tr>\n",
       "      <th>1</th>\n",
       "      <td>B</td>\n",
       "      <td>34</td>\n",
       "    </tr>\n",
       "    <tr>\n",
       "      <th>2</th>\n",
       "      <td>B</td>\n",
       "      <td>22</td>\n",
       "    </tr>\n",
       "    <tr>\n",
       "      <th>3</th>\n",
       "      <td>B</td>\n",
       "      <td>43</td>\n",
       "    </tr>\n",
       "    <tr>\n",
       "      <th>4</th>\n",
       "      <td>B</td>\n",
       "      <td>34</td>\n",
       "    </tr>\n",
       "    <tr>\n",
       "      <th>0</th>\n",
       "      <td>C</td>\n",
       "      <td>40</td>\n",
       "    </tr>\n",
       "    <tr>\n",
       "      <th>1</th>\n",
       "      <td>C</td>\n",
       "      <td>47</td>\n",
       "    </tr>\n",
       "    <tr>\n",
       "      <th>2</th>\n",
       "      <td>C</td>\n",
       "      <td>33</td>\n",
       "    </tr>\n",
       "    <tr>\n",
       "      <th>3</th>\n",
       "      <td>C</td>\n",
       "      <td>31</td>\n",
       "    </tr>\n",
       "    <tr>\n",
       "      <th>4</th>\n",
       "      <td>C</td>\n",
       "      <td>43</td>\n",
       "    </tr>\n",
       "    <tr>\n",
       "      <th>0</th>\n",
       "      <td>D</td>\n",
       "      <td>47</td>\n",
       "    </tr>\n",
       "    <tr>\n",
       "      <th>1</th>\n",
       "      <td>D</td>\n",
       "      <td>30</td>\n",
       "    </tr>\n",
       "    <tr>\n",
       "      <th>2</th>\n",
       "      <td>D</td>\n",
       "      <td>33</td>\n",
       "    </tr>\n",
       "    <tr>\n",
       "      <th>3</th>\n",
       "      <td>D</td>\n",
       "      <td>46</td>\n",
       "    </tr>\n",
       "    <tr>\n",
       "      <th>4</th>\n",
       "      <td>D</td>\n",
       "      <td>47</td>\n",
       "    </tr>\n",
       "  </tbody>\n",
       "</table>\n",
       "</div>"
      ],
      "text/plain": [
       "  variable  value\n",
       "0        A     33\n",
       "1        A     47\n",
       "2        A     29\n",
       "3        A     35\n",
       "4        A     24\n",
       "0        B     34\n",
       "1        B     34\n",
       "2        B     22\n",
       "3        B     43\n",
       "4        B     34\n",
       "0        C     40\n",
       "1        C     47\n",
       "2        C     33\n",
       "3        C     31\n",
       "4        C     43\n",
       "0        D     47\n",
       "1        D     30\n",
       "2        D     33\n",
       "3        D     46\n",
       "4        D     47"
      ]
     },
     "execution_count": 44,
     "metadata": {},
     "output_type": "execute_result"
    }
   ],
   "source": [
    "df3.melt(ignore_index=False)"
   ]
  },
  {
   "cell_type": "code",
   "execution_count": null,
   "id": "d1e81531",
   "metadata": {},
   "outputs": [],
   "source": [
    "models = ['DeepSpeech', 'XLSR']\n",
    "\n"
   ]
  },
  {
   "cell_type": "code",
   "execution_count": 54,
   "id": "7724974b",
   "metadata": {},
   "outputs": [],
   "source": [
    "d= pd.DataFrame({'Model':['DeepSpeech','DeepSpeech','DeepSpeech', 'XLSR', 'XLSR', 'XLSR'],\n",
    "                     'Dataset':['Librispeech','Dysarthric Speeech', 'BCI Speech','Librispeech','Dysarthric Speeech', 'BCI Speech'], \n",
    "                      'CER':['0.0499','0.8089','1.0537', '0.0256', '0.69943', '1.7248']})"
   ]
  },
  {
   "cell_type": "code",
   "execution_count": 55,
   "id": "131b32db",
   "metadata": {},
   "outputs": [
    {
     "data": {
      "text/html": [
       "<div>\n",
       "<style scoped>\n",
       "    .dataframe tbody tr th:only-of-type {\n",
       "        vertical-align: middle;\n",
       "    }\n",
       "\n",
       "    .dataframe tbody tr th {\n",
       "        vertical-align: top;\n",
       "    }\n",
       "\n",
       "    .dataframe thead th {\n",
       "        text-align: right;\n",
       "    }\n",
       "</style>\n",
       "<table border=\"1\" class=\"dataframe\">\n",
       "  <thead>\n",
       "    <tr style=\"text-align: right;\">\n",
       "      <th></th>\n",
       "      <th>Model</th>\n",
       "      <th>Dataset</th>\n",
       "      <th>CER</th>\n",
       "    </tr>\n",
       "  </thead>\n",
       "  <tbody>\n",
       "    <tr>\n",
       "      <th>0</th>\n",
       "      <td>DeepSpeech</td>\n",
       "      <td>Librispeech</td>\n",
       "      <td>0.0499</td>\n",
       "    </tr>\n",
       "    <tr>\n",
       "      <th>1</th>\n",
       "      <td>DeepSpeech</td>\n",
       "      <td>Dysarthric Speeech</td>\n",
       "      <td>0.8089</td>\n",
       "    </tr>\n",
       "    <tr>\n",
       "      <th>2</th>\n",
       "      <td>DeepSpeech</td>\n",
       "      <td>BCI Speech</td>\n",
       "      <td>1.0537</td>\n",
       "    </tr>\n",
       "    <tr>\n",
       "      <th>3</th>\n",
       "      <td>XLSR</td>\n",
       "      <td>Librispeech</td>\n",
       "      <td>0.0256</td>\n",
       "    </tr>\n",
       "    <tr>\n",
       "      <th>4</th>\n",
       "      <td>XLSR</td>\n",
       "      <td>Dysarthric Speeech</td>\n",
       "      <td>0.69943</td>\n",
       "    </tr>\n",
       "    <tr>\n",
       "      <th>5</th>\n",
       "      <td>XLSR</td>\n",
       "      <td>BCI Speech</td>\n",
       "      <td>1.7248</td>\n",
       "    </tr>\n",
       "  </tbody>\n",
       "</table>\n",
       "</div>"
      ],
      "text/plain": [
       "        Model             Dataset      CER\n",
       "0  DeepSpeech         Librispeech   0.0499\n",
       "1  DeepSpeech  Dysarthric Speeech   0.8089\n",
       "2  DeepSpeech          BCI Speech   1.0537\n",
       "3        XLSR         Librispeech   0.0256\n",
       "4        XLSR  Dysarthric Speeech  0.69943\n",
       "5        XLSR          BCI Speech   1.7248"
      ]
     },
     "execution_count": 55,
     "metadata": {},
     "output_type": "execute_result"
    }
   ],
   "source": [
    "d"
   ]
  },
  {
   "cell_type": "code",
   "execution_count": 59,
   "id": "32c90ed1",
   "metadata": {},
   "outputs": [
    {
     "data": {
      "text/html": [
       "<div>\n",
       "<style scoped>\n",
       "    .dataframe tbody tr th:only-of-type {\n",
       "        vertical-align: middle;\n",
       "    }\n",
       "\n",
       "    .dataframe tbody tr th {\n",
       "        vertical-align: top;\n",
       "    }\n",
       "\n",
       "    .dataframe thead th {\n",
       "        text-align: right;\n",
       "    }\n",
       "</style>\n",
       "<table border=\"1\" class=\"dataframe\">\n",
       "  <thead>\n",
       "    <tr style=\"text-align: right;\">\n",
       "      <th></th>\n",
       "      <th>index</th>\n",
       "      <th>variable</th>\n",
       "      <th>value</th>\n",
       "    </tr>\n",
       "  </thead>\n",
       "  <tbody>\n",
       "    <tr>\n",
       "      <th>0</th>\n",
       "      <td>0</td>\n",
       "      <td>Model</td>\n",
       "      <td>DeepSpeech</td>\n",
       "    </tr>\n",
       "    <tr>\n",
       "      <th>1</th>\n",
       "      <td>1</td>\n",
       "      <td>Model</td>\n",
       "      <td>DeepSpeech</td>\n",
       "    </tr>\n",
       "    <tr>\n",
       "      <th>2</th>\n",
       "      <td>2</td>\n",
       "      <td>Model</td>\n",
       "      <td>DeepSpeech</td>\n",
       "    </tr>\n",
       "    <tr>\n",
       "      <th>3</th>\n",
       "      <td>3</td>\n",
       "      <td>Model</td>\n",
       "      <td>XLSR</td>\n",
       "    </tr>\n",
       "    <tr>\n",
       "      <th>4</th>\n",
       "      <td>4</td>\n",
       "      <td>Model</td>\n",
       "      <td>XLSR</td>\n",
       "    </tr>\n",
       "    <tr>\n",
       "      <th>5</th>\n",
       "      <td>5</td>\n",
       "      <td>Model</td>\n",
       "      <td>XLSR</td>\n",
       "    </tr>\n",
       "    <tr>\n",
       "      <th>6</th>\n",
       "      <td>0</td>\n",
       "      <td>Dataset</td>\n",
       "      <td>Librispeech</td>\n",
       "    </tr>\n",
       "    <tr>\n",
       "      <th>7</th>\n",
       "      <td>1</td>\n",
       "      <td>Dataset</td>\n",
       "      <td>Dysarthric Speeech</td>\n",
       "    </tr>\n",
       "    <tr>\n",
       "      <th>8</th>\n",
       "      <td>2</td>\n",
       "      <td>Dataset</td>\n",
       "      <td>BCI Speech</td>\n",
       "    </tr>\n",
       "    <tr>\n",
       "      <th>9</th>\n",
       "      <td>3</td>\n",
       "      <td>Dataset</td>\n",
       "      <td>Librispeech</td>\n",
       "    </tr>\n",
       "    <tr>\n",
       "      <th>10</th>\n",
       "      <td>4</td>\n",
       "      <td>Dataset</td>\n",
       "      <td>Dysarthric Speeech</td>\n",
       "    </tr>\n",
       "    <tr>\n",
       "      <th>11</th>\n",
       "      <td>5</td>\n",
       "      <td>Dataset</td>\n",
       "      <td>BCI Speech</td>\n",
       "    </tr>\n",
       "    <tr>\n",
       "      <th>12</th>\n",
       "      <td>0</td>\n",
       "      <td>CER</td>\n",
       "      <td>0.0499</td>\n",
       "    </tr>\n",
       "    <tr>\n",
       "      <th>13</th>\n",
       "      <td>1</td>\n",
       "      <td>CER</td>\n",
       "      <td>0.8089</td>\n",
       "    </tr>\n",
       "    <tr>\n",
       "      <th>14</th>\n",
       "      <td>2</td>\n",
       "      <td>CER</td>\n",
       "      <td>1.0537</td>\n",
       "    </tr>\n",
       "    <tr>\n",
       "      <th>15</th>\n",
       "      <td>3</td>\n",
       "      <td>CER</td>\n",
       "      <td>0.0256</td>\n",
       "    </tr>\n",
       "    <tr>\n",
       "      <th>16</th>\n",
       "      <td>4</td>\n",
       "      <td>CER</td>\n",
       "      <td>0.69943</td>\n",
       "    </tr>\n",
       "    <tr>\n",
       "      <th>17</th>\n",
       "      <td>5</td>\n",
       "      <td>CER</td>\n",
       "      <td>1.7248</td>\n",
       "    </tr>\n",
       "  </tbody>\n",
       "</table>\n",
       "</div>"
      ],
      "text/plain": [
       "    index variable               value\n",
       "0       0    Model          DeepSpeech\n",
       "1       1    Model          DeepSpeech\n",
       "2       2    Model          DeepSpeech\n",
       "3       3    Model                XLSR\n",
       "4       4    Model                XLSR\n",
       "5       5    Model                XLSR\n",
       "6       0  Dataset         Librispeech\n",
       "7       1  Dataset  Dysarthric Speeech\n",
       "8       2  Dataset          BCI Speech\n",
       "9       3  Dataset         Librispeech\n",
       "10      4  Dataset  Dysarthric Speeech\n",
       "11      5  Dataset          BCI Speech\n",
       "12      0      CER              0.0499\n",
       "13      1      CER              0.8089\n",
       "14      2      CER              1.0537\n",
       "15      3      CER              0.0256\n",
       "16      4      CER             0.69943\n",
       "17      5      CER              1.7248"
      ]
     },
     "execution_count": 59,
     "metadata": {},
     "output_type": "execute_result"
    }
   ],
   "source": [
    "d.melt(ignore_index=False).reset_index()"
   ]
  },
  {
   "cell_type": "code",
   "execution_count": 61,
   "id": "b03656d3",
   "metadata": {},
   "outputs": [
    {
     "ename": "TypeError",
     "evalue": "Neither the `x` nor `y` variable appears to be numeric.",
     "output_type": "error",
     "traceback": [
      "\u001b[0;31m---------------------------------------------------------------------------\u001b[0m",
      "\u001b[0;31mTypeError\u001b[0m                                 Traceback (most recent call last)",
      "Input \u001b[0;32mIn [61]\u001b[0m, in \u001b[0;36m<cell line: 4>\u001b[0;34m()\u001b[0m\n\u001b[1;32m      1\u001b[0m bar_colors \u001b[38;5;241m=\u001b[39m [\u001b[38;5;124m'\u001b[39m\u001b[38;5;124mred\u001b[39m\u001b[38;5;124m'\u001b[39m,\u001b[38;5;124m'\u001b[39m\u001b[38;5;124mblue\u001b[39m\u001b[38;5;124m'\u001b[39m, \u001b[38;5;124m'\u001b[39m\u001b[38;5;124mgreen\u001b[39m\u001b[38;5;124m'\u001b[39m]\n\u001b[1;32m      2\u001b[0m dogde_width \u001b[38;5;241m=\u001b[39m \u001b[38;5;241m.8\u001b[39m \u001b[38;5;241m-\u001b[39m \u001b[38;5;241m.8\u001b[39m \u001b[38;5;241m/\u001b[39m \u001b[38;5;28mlen\u001b[39m(bar_colors)\n\u001b[0;32m----> 4\u001b[0m ax \u001b[38;5;241m=\u001b[39m \u001b[43msns\u001b[49m\u001b[38;5;241;43m.\u001b[39;49m\u001b[43mpointplot\u001b[49m\u001b[43m(\u001b[49m\u001b[43mdata\u001b[49m\u001b[38;5;241;43m=\u001b[39;49m\u001b[43md\u001b[49m\u001b[43m,\u001b[49m\n\u001b[1;32m      5\u001b[0m \u001b[43mx\u001b[49m\u001b[38;5;241;43m=\u001b[39;49m\u001b[38;5;124;43m'\u001b[39;49m\u001b[38;5;124;43mDataset\u001b[39;49m\u001b[38;5;124;43m'\u001b[39;49m\u001b[43m,\u001b[49m\u001b[43m \u001b[49m\u001b[43my\u001b[49m\u001b[38;5;241;43m=\u001b[39;49m\u001b[38;5;124;43m'\u001b[39;49m\u001b[38;5;124;43mCER\u001b[39;49m\u001b[38;5;124;43m'\u001b[39;49m\u001b[43m,\u001b[49m\u001b[43m \u001b[49m\u001b[43mhue\u001b[49m\u001b[38;5;241;43m=\u001b[39;49m\u001b[38;5;124;43m'\u001b[39;49m\u001b[38;5;124;43mModel\u001b[39;49m\u001b[38;5;124;43m'\u001b[39;49m\u001b[43m,\u001b[49m\u001b[43m \u001b[49m\u001b[43mlinestyles\u001b[49m\u001b[38;5;241;43m=\u001b[39;49m\u001b[38;5;124;43m'\u001b[39;49m\u001b[38;5;124;43m'\u001b[39;49m\u001b[43m,\u001b[49m\u001b[43m \u001b[49m\u001b[43mmarkers\u001b[49m\u001b[38;5;241;43m=\u001b[39;49m\u001b[38;5;124;43m'\u001b[39;49m\u001b[38;5;124;43m^\u001b[39;49m\u001b[38;5;124;43m'\u001b[39;49m\u001b[43m,\u001b[49m\n\u001b[1;32m      6\u001b[0m \u001b[43mpalette\u001b[49m\u001b[38;5;241;43m=\u001b[39;49m\u001b[43mbar_colors\u001b[49m\u001b[43m,\u001b[49m\u001b[43m \u001b[49m\u001b[43mdodge\u001b[49m\u001b[38;5;241;43m=\u001b[39;49m\u001b[43mdogde_width\u001b[49m\u001b[43m)\u001b[49m\n",
      "File \u001b[0;32m~/anaconda3/envs/ieee-ner/lib/python3.9/site-packages/seaborn/_decorators.py:46\u001b[0m, in \u001b[0;36m_deprecate_positional_args.<locals>.inner_f\u001b[0;34m(*args, **kwargs)\u001b[0m\n\u001b[1;32m     36\u001b[0m     warnings\u001b[38;5;241m.\u001b[39mwarn(\n\u001b[1;32m     37\u001b[0m         \u001b[38;5;124m\"\u001b[39m\u001b[38;5;124mPass the following variable\u001b[39m\u001b[38;5;132;01m{}\u001b[39;00m\u001b[38;5;124m as \u001b[39m\u001b[38;5;132;01m{}\u001b[39;00m\u001b[38;5;124mkeyword arg\u001b[39m\u001b[38;5;132;01m{}\u001b[39;00m\u001b[38;5;124m: \u001b[39m\u001b[38;5;132;01m{}\u001b[39;00m\u001b[38;5;124m. \u001b[39m\u001b[38;5;124m\"\u001b[39m\n\u001b[1;32m     38\u001b[0m         \u001b[38;5;124m\"\u001b[39m\u001b[38;5;124mFrom version 0.12, the only valid positional argument \u001b[39m\u001b[38;5;124m\"\u001b[39m\n\u001b[0;32m   (...)\u001b[0m\n\u001b[1;32m     43\u001b[0m         \u001b[38;5;167;01mFutureWarning\u001b[39;00m\n\u001b[1;32m     44\u001b[0m     )\n\u001b[1;32m     45\u001b[0m kwargs\u001b[38;5;241m.\u001b[39mupdate({k: arg \u001b[38;5;28;01mfor\u001b[39;00m k, arg \u001b[38;5;129;01min\u001b[39;00m \u001b[38;5;28mzip\u001b[39m(sig\u001b[38;5;241m.\u001b[39mparameters, args)})\n\u001b[0;32m---> 46\u001b[0m \u001b[38;5;28;01mreturn\u001b[39;00m \u001b[43mf\u001b[49m\u001b[43m(\u001b[49m\u001b[38;5;241;43m*\u001b[39;49m\u001b[38;5;241;43m*\u001b[39;49m\u001b[43mkwargs\u001b[49m\u001b[43m)\u001b[49m\n",
      "File \u001b[0;32m~/anaconda3/envs/ieee-ner/lib/python3.9/site-packages/seaborn/categorical.py:3375\u001b[0m, in \u001b[0;36mpointplot\u001b[0;34m(x, y, hue, data, order, hue_order, estimator, ci, n_boot, units, seed, markers, linestyles, dodge, join, scale, orient, color, palette, errwidth, capsize, ax, **kwargs)\u001b[0m\n\u001b[1;32m   3362\u001b[0m \u001b[38;5;129m@_deprecate_positional_args\u001b[39m\n\u001b[1;32m   3363\u001b[0m \u001b[38;5;28;01mdef\u001b[39;00m \u001b[38;5;21mpointplot\u001b[39m(\n\u001b[1;32m   3364\u001b[0m     \u001b[38;5;241m*\u001b[39m,\n\u001b[0;32m   (...)\u001b[0m\n\u001b[1;32m   3372\u001b[0m     \u001b[38;5;241m*\u001b[39m\u001b[38;5;241m*\u001b[39mkwargs\n\u001b[1;32m   3373\u001b[0m ):\n\u001b[0;32m-> 3375\u001b[0m     plotter \u001b[38;5;241m=\u001b[39m \u001b[43m_PointPlotter\u001b[49m\u001b[43m(\u001b[49m\u001b[43mx\u001b[49m\u001b[43m,\u001b[49m\u001b[43m \u001b[49m\u001b[43my\u001b[49m\u001b[43m,\u001b[49m\u001b[43m \u001b[49m\u001b[43mhue\u001b[49m\u001b[43m,\u001b[49m\u001b[43m \u001b[49m\u001b[43mdata\u001b[49m\u001b[43m,\u001b[49m\u001b[43m \u001b[49m\u001b[43morder\u001b[49m\u001b[43m,\u001b[49m\u001b[43m \u001b[49m\u001b[43mhue_order\u001b[49m\u001b[43m,\u001b[49m\n\u001b[1;32m   3376\u001b[0m \u001b[43m                            \u001b[49m\u001b[43mestimator\u001b[49m\u001b[43m,\u001b[49m\u001b[43m \u001b[49m\u001b[43mci\u001b[49m\u001b[43m,\u001b[49m\u001b[43m \u001b[49m\u001b[43mn_boot\u001b[49m\u001b[43m,\u001b[49m\u001b[43m \u001b[49m\u001b[43munits\u001b[49m\u001b[43m,\u001b[49m\u001b[43m \u001b[49m\u001b[43mseed\u001b[49m\u001b[43m,\u001b[49m\n\u001b[1;32m   3377\u001b[0m \u001b[43m                            \u001b[49m\u001b[43mmarkers\u001b[49m\u001b[43m,\u001b[49m\u001b[43m \u001b[49m\u001b[43mlinestyles\u001b[49m\u001b[43m,\u001b[49m\u001b[43m \u001b[49m\u001b[43mdodge\u001b[49m\u001b[43m,\u001b[49m\u001b[43m \u001b[49m\u001b[43mjoin\u001b[49m\u001b[43m,\u001b[49m\u001b[43m \u001b[49m\u001b[43mscale\u001b[49m\u001b[43m,\u001b[49m\n\u001b[1;32m   3378\u001b[0m \u001b[43m                            \u001b[49m\u001b[43morient\u001b[49m\u001b[43m,\u001b[49m\u001b[43m \u001b[49m\u001b[43mcolor\u001b[49m\u001b[43m,\u001b[49m\u001b[43m \u001b[49m\u001b[43mpalette\u001b[49m\u001b[43m,\u001b[49m\u001b[43m \u001b[49m\u001b[43merrwidth\u001b[49m\u001b[43m,\u001b[49m\u001b[43m \u001b[49m\u001b[43mcapsize\u001b[49m\u001b[43m)\u001b[49m\n\u001b[1;32m   3380\u001b[0m     \u001b[38;5;28;01mif\u001b[39;00m ax \u001b[38;5;129;01mis\u001b[39;00m \u001b[38;5;28;01mNone\u001b[39;00m:\n\u001b[1;32m   3381\u001b[0m         ax \u001b[38;5;241m=\u001b[39m plt\u001b[38;5;241m.\u001b[39mgca()\n",
      "File \u001b[0;32m~/anaconda3/envs/ieee-ner/lib/python3.9/site-packages/seaborn/categorical.py:1655\u001b[0m, in \u001b[0;36m_PointPlotter.__init__\u001b[0;34m(self, x, y, hue, data, order, hue_order, estimator, ci, n_boot, units, seed, markers, linestyles, dodge, join, scale, orient, color, palette, errwidth, capsize)\u001b[0m\n\u001b[1;32m   1650\u001b[0m \u001b[38;5;28;01mdef\u001b[39;00m \u001b[38;5;21m__init__\u001b[39m(\u001b[38;5;28mself\u001b[39m, x, y, hue, data, order, hue_order,\n\u001b[1;32m   1651\u001b[0m              estimator, ci, n_boot, units, seed,\n\u001b[1;32m   1652\u001b[0m              markers, linestyles, dodge, join, scale,\n\u001b[1;32m   1653\u001b[0m              orient, color, palette, errwidth\u001b[38;5;241m=\u001b[39m\u001b[38;5;28;01mNone\u001b[39;00m, capsize\u001b[38;5;241m=\u001b[39m\u001b[38;5;28;01mNone\u001b[39;00m):\n\u001b[1;32m   1654\u001b[0m     \u001b[38;5;124;03m\"\"\"Initialize the plotter.\"\"\"\u001b[39;00m\n\u001b[0;32m-> 1655\u001b[0m     \u001b[38;5;28;43mself\u001b[39;49m\u001b[38;5;241;43m.\u001b[39;49m\u001b[43mestablish_variables\u001b[49m\u001b[43m(\u001b[49m\u001b[43mx\u001b[49m\u001b[43m,\u001b[49m\u001b[43m \u001b[49m\u001b[43my\u001b[49m\u001b[43m,\u001b[49m\u001b[43m \u001b[49m\u001b[43mhue\u001b[49m\u001b[43m,\u001b[49m\u001b[43m \u001b[49m\u001b[43mdata\u001b[49m\u001b[43m,\u001b[49m\u001b[43m \u001b[49m\u001b[43morient\u001b[49m\u001b[43m,\u001b[49m\n\u001b[1;32m   1656\u001b[0m \u001b[43m                             \u001b[49m\u001b[43morder\u001b[49m\u001b[43m,\u001b[49m\u001b[43m \u001b[49m\u001b[43mhue_order\u001b[49m\u001b[43m,\u001b[49m\u001b[43m \u001b[49m\u001b[43munits\u001b[49m\u001b[43m)\u001b[49m\n\u001b[1;32m   1657\u001b[0m     \u001b[38;5;28mself\u001b[39m\u001b[38;5;241m.\u001b[39mestablish_colors(color, palette, \u001b[38;5;241m1\u001b[39m)\n\u001b[1;32m   1658\u001b[0m     \u001b[38;5;28mself\u001b[39m\u001b[38;5;241m.\u001b[39mestimate_statistic(estimator, ci, n_boot, seed)\n",
      "File \u001b[0;32m~/anaconda3/envs/ieee-ner/lib/python3.9/site-packages/seaborn/categorical.py:156\u001b[0m, in \u001b[0;36m_CategoricalPlotter.establish_variables\u001b[0;34m(self, x, y, hue, data, orient, order, hue_order, units)\u001b[0m\n\u001b[1;32m    153\u001b[0m         \u001b[38;5;28;01mraise\u001b[39;00m \u001b[38;5;167;01mValueError\u001b[39;00m(err)\n\u001b[1;32m    155\u001b[0m \u001b[38;5;66;03m# Figure out the plotting orientation\u001b[39;00m\n\u001b[0;32m--> 156\u001b[0m orient \u001b[38;5;241m=\u001b[39m \u001b[43minfer_orient\u001b[49m\u001b[43m(\u001b[49m\n\u001b[1;32m    157\u001b[0m \u001b[43m    \u001b[49m\u001b[43mx\u001b[49m\u001b[43m,\u001b[49m\u001b[43m \u001b[49m\u001b[43my\u001b[49m\u001b[43m,\u001b[49m\u001b[43m \u001b[49m\u001b[43morient\u001b[49m\u001b[43m,\u001b[49m\u001b[43m \u001b[49m\u001b[43mrequire_numeric\u001b[49m\u001b[38;5;241;43m=\u001b[39;49m\u001b[38;5;28;43mself\u001b[39;49m\u001b[38;5;241;43m.\u001b[39;49m\u001b[43mrequire_numeric\u001b[49m\n\u001b[1;32m    158\u001b[0m \u001b[43m\u001b[49m\u001b[43m)\u001b[49m\n\u001b[1;32m    160\u001b[0m \u001b[38;5;66;03m# Option 2a:\u001b[39;00m\n\u001b[1;32m    161\u001b[0m \u001b[38;5;66;03m# We are plotting a single set of data\u001b[39;00m\n\u001b[1;32m    162\u001b[0m \u001b[38;5;66;03m# ------------------------------------\u001b[39;00m\n\u001b[1;32m    163\u001b[0m \u001b[38;5;28;01mif\u001b[39;00m x \u001b[38;5;129;01mis\u001b[39;00m \u001b[38;5;28;01mNone\u001b[39;00m \u001b[38;5;129;01mor\u001b[39;00m y \u001b[38;5;129;01mis\u001b[39;00m \u001b[38;5;28;01mNone\u001b[39;00m:\n\u001b[1;32m    164\u001b[0m \n\u001b[1;32m    165\u001b[0m     \u001b[38;5;66;03m# Determine where the data are\u001b[39;00m\n",
      "File \u001b[0;32m~/anaconda3/envs/ieee-ner/lib/python3.9/site-packages/seaborn/_core.py:1352\u001b[0m, in \u001b[0;36minfer_orient\u001b[0;34m(x, y, orient, require_numeric)\u001b[0m\n\u001b[1;32m   1350\u001b[0m \u001b[38;5;28;01melif\u001b[39;00m require_numeric \u001b[38;5;129;01mand\u001b[39;00m \u001b[38;5;124m\"\u001b[39m\u001b[38;5;124mnumeric\u001b[39m\u001b[38;5;124m\"\u001b[39m \u001b[38;5;129;01mnot\u001b[39;00m \u001b[38;5;129;01min\u001b[39;00m (x_type, y_type):\n\u001b[1;32m   1351\u001b[0m     err \u001b[38;5;241m=\u001b[39m \u001b[38;5;124m\"\u001b[39m\u001b[38;5;124mNeither the `x` nor `y` variable appears to be numeric.\u001b[39m\u001b[38;5;124m\"\u001b[39m\n\u001b[0;32m-> 1352\u001b[0m     \u001b[38;5;28;01mraise\u001b[39;00m \u001b[38;5;167;01mTypeError\u001b[39;00m(err)\n\u001b[1;32m   1354\u001b[0m \u001b[38;5;28;01melse\u001b[39;00m:\n\u001b[1;32m   1355\u001b[0m     \u001b[38;5;28;01mreturn\u001b[39;00m \u001b[38;5;124m\"\u001b[39m\u001b[38;5;124mv\u001b[39m\u001b[38;5;124m\"\u001b[39m\n",
      "\u001b[0;31mTypeError\u001b[0m: Neither the `x` nor `y` variable appears to be numeric."
     ]
    }
   ],
   "source": [
    "bar_colors = ['red','blue', 'green']\n",
    "dogde_width = .8 - .8 / len(bar_colors)\n",
    "\n",
    "ax = sns.pointplot(data=d,\n",
    "x='Dataset', y='CER', hue='Model', linestyles='', markers='^',\n",
    "palette=bar_colors, dodge=dogde_width)"
   ]
  },
  {
   "cell_type": "code",
   "execution_count": 48,
   "id": "00556f94",
   "metadata": {},
   "outputs": [
    {
     "data": {
      "image/png": "[encoded data removed]",
      "text/plain": [
       "<Figure size 432x288 with 1 Axes>"
      ]
     },
     "metadata": {
      "needs_background": "light"
     },
     "output_type": "display_data"
    }
   ],
   "source": [
    "bar_colors = ['red','blue', 'green']\n",
    "dogde_width = .8 - .8 / len(bar_colors)\n",
    "\n",
    "ax = sns.pointplot(data=df2.melt(ignore_index=False).reset_index(),\n",
    "                   x='index', y='value', hue='variable', linestyles='', markers='^',\n",
    "                   palette=bar_colors, dodge=dogde_width)\n",
    "\n",
    "sns.pointplot(data=df3.melt(ignore_index=False).reset_index(),\n",
    "              x='index', y='value', hue='variable', linestyles='', markers='o',\n",
    "              palette=bar_colors, dodge=dogde_width, ax=ax)\n",
    "\n",
    "sns.barplot(data=df.melt(ignore_index=False).reset_index(),\n",
    "            x='index', y='value', hue='variable',\n",
    "            palette=bar_colors, dodge=True, ax=ax)\n",
    "\n",
    "handles, labels = ax.get_legend_handles_labels()\n",
    "leg_num = len(bar_colors)\n",
    "ax.legend(handles[-leg_num:], labels[-leg_num:])  # use only four last elements for the legend\n",
    "for markers in ax.collections:\n",
    "    markers.set_facecolor('white')\n",
    "    markers.set_linewidth(1)\n",
    "plt.show()"
   ]
  },
  {
   "cell_type": "code",
   "execution_count": 45,
   "id": "2abe61c9",
   "metadata": {},
   "outputs": [
    {
     "data": {
      "image/png": "[encoded data removed]",
      "text/plain": [
       "<Figure size 432x288 with 1 Axes>"
      ]
     },
     "metadata": {
      "needs_background": "light"
     },
     "output_type": "display_data"
    }
   ],
   "source": [
    "bar_colors = ['red','blue', 'green']\n",
    "dogde_width = .8 - .8 / len(bar_colors)\n",
    "\n",
    "ax = sns.pointplot(data=df2.melt(ignore_index=False).reset_index(),\n",
    "                   x='index', y='value', hue='variable', linestyles='', markers='^',\n",
    "                   palette=bar_colors, dodge=dogde_width)\n",
    "\n",
    "sns.pointplot(data=df3.melt(ignore_index=False).reset_index(),\n",
    "              x='index', y='value', hue='variable', linestyles='', markers='o',\n",
    "              palette=bar_colors, dodge=dogde_width, ax=ax)\n",
    "\n",
    "sns.barplot(data=df.melt(ignore_index=False).reset_index(),\n",
    "            x='index', y='value', hue='variable',\n",
    "            palette=bar_colors, dodge=True, ax=ax)\n",
    "\n",
    "handles, labels = ax.get_legend_handles_labels()\n",
    "leg_num = len(bar_colors)\n",
    "ax.legend(handles[-leg_num:], labels[-leg_num:])  # use only four last elements for the legend\n",
    "for markers in ax.collections:\n",
    "    markers.set_facecolor('white')\n",
    "    markers.set_linewidth(1)\n",
    "plt.show()"
   ]
  },
  {
   "cell_type": "code",
   "execution_count": null,
   "id": "1bd3a8eb",
   "metadata": {},
   "outputs": [],
   "source": [
    "import pandas as pd\n",
    "import matplotlib.pyplot as plt\n",
    "\n",
    "df = pd.DataFrame([['g1','c1',10],['g1','c2',12],['g1','c3',13],['g2','c1',8],\n",
    "                   ['g2','c2',10],['g2','c3',12]],columns=['group','column','val'])\n",
    "\n",
    "df.pivot(\"column\", \"group\", \"val\").plot(kind='bar')\n",
    "\n",
    "plt.show()"
   ]
  },
  {
   "cell_type": "code",
   "execution_count": null,
   "id": "115e9d51",
   "metadata": {},
   "outputs": [],
   "source": []
  },
  {
   "cell_type": "code",
   "execution_count": 23,
   "id": "a90be1a0",
   "metadata": {},
   "outputs": [],
   "source": [
    "import pandas as pd"
   ]
  },
  {
   "cell_type": "code",
   "execution_count": null,
   "id": "18c205cf",
   "metadata": {},
   "outputs": [],
   "source": [
    "pd.DataFrame(columns={'Models',''})"
   ]
  },
  {
   "cell_type": "code",
   "execution_count": null,
   "id": "9c42b714",
   "metadata": {},
   "outputs": [],
   "source": []
  },
  {
   "cell_type": "code",
   "execution_count": null,
   "id": "31b4876f",
   "metadata": {},
   "outputs": [],
   "source": []
  },
  {
   "cell_type": "code",
   "execution_count": null,
   "id": "16273c7c",
   "metadata": {},
   "outputs": [],
   "source": []
  },
  {
   "cell_type": "code",
   "execution_count": null,
   "id": "6214a514",
   "metadata": {},
   "outputs": [],
   "source": []
  },
  {
   "cell_type": "code",
   "execution_count": null,
   "id": "d5851168",
   "metadata": {},
   "outputs": [],
   "source": []
  },
  {
   "cell_type": "code",
   "execution_count": null,
   "id": "dae68aa4",
   "metadata": {},
   "outputs": [],
   "source": []
  },
  {
   "cell_type": "code",
   "execution_count": null,
   "id": "a0542652",
   "metadata": {},
   "outputs": [],
   "source": []
  },
  {
   "cell_type": "code",
   "execution_count": 36,
   "id": "bf2da04e",
   "metadata": {},
   "outputs": [
    {
     "ename": "ValueError",
     "evalue": "Unrecognized marker style '@'",
     "output_type": "error",
     "traceback": [
      "\u001b[0;31m---------------------------------------------------------------------------\u001b[0m",
      "\u001b[0;31mValueError\u001b[0m                                Traceback (most recent call last)",
      "File \u001b[0;32m~/anaconda3/envs/ieee-ner/lib/python3.9/site-packages/matplotlib/markers.py:326\u001b[0m, in \u001b[0;36mMarkerStyle._set_marker\u001b[0;34m(self, marker)\u001b[0m\n\u001b[1;32m    325\u001b[0m \u001b[38;5;28;01mtry\u001b[39;00m:\n\u001b[0;32m--> 326\u001b[0m     \u001b[43mPath\u001b[49m\u001b[43m(\u001b[49m\u001b[43mmarker\u001b[49m\u001b[43m)\u001b[49m\n\u001b[1;32m    327\u001b[0m     \u001b[38;5;28mself\u001b[39m\u001b[38;5;241m.\u001b[39m_marker_function \u001b[38;5;241m=\u001b[39m \u001b[38;5;28mself\u001b[39m\u001b[38;5;241m.\u001b[39m_set_vertices\n",
      "File \u001b[0;32m~/anaconda3/envs/ieee-ner/lib/python3.9/site-packages/matplotlib/path.py:129\u001b[0m, in \u001b[0;36mPath.__init__\u001b[0;34m(self, vertices, codes, _interpolation_steps, closed, readonly)\u001b[0m\n\u001b[1;32m    101\u001b[0m \u001b[38;5;124;03m\"\"\"\u001b[39;00m\n\u001b[1;32m    102\u001b[0m \u001b[38;5;124;03mCreate a new path with the given vertices and codes.\u001b[39;00m\n\u001b[1;32m    103\u001b[0m \n\u001b[0;32m   (...)\u001b[0m\n\u001b[1;32m    127\u001b[0m \u001b[38;5;124;03m    and codes as read-only arrays.\u001b[39;00m\n\u001b[1;32m    128\u001b[0m \u001b[38;5;124;03m\"\"\"\u001b[39;00m\n\u001b[0;32m--> 129\u001b[0m vertices \u001b[38;5;241m=\u001b[39m \u001b[43m_to_unmasked_float_array\u001b[49m\u001b[43m(\u001b[49m\u001b[43mvertices\u001b[49m\u001b[43m)\u001b[49m\n\u001b[1;32m    130\u001b[0m _api\u001b[38;5;241m.\u001b[39mcheck_shape((\u001b[38;5;28;01mNone\u001b[39;00m, \u001b[38;5;241m2\u001b[39m), vertices\u001b[38;5;241m=\u001b[39mvertices)\n",
      "File \u001b[0;32m~/anaconda3/envs/ieee-ner/lib/python3.9/site-packages/matplotlib/cbook/__init__.py:1298\u001b[0m, in \u001b[0;36m_to_unmasked_float_array\u001b[0;34m(x)\u001b[0m\n\u001b[1;32m   1297\u001b[0m \u001b[38;5;28;01melse\u001b[39;00m:\n\u001b[0;32m-> 1298\u001b[0m     \u001b[38;5;28;01mreturn\u001b[39;00m \u001b[43mnp\u001b[49m\u001b[38;5;241;43m.\u001b[39;49m\u001b[43masarray\u001b[49m\u001b[43m(\u001b[49m\u001b[43mx\u001b[49m\u001b[43m,\u001b[49m\u001b[43m \u001b[49m\u001b[38;5;28;43mfloat\u001b[39;49m\u001b[43m)\u001b[49m\n",
      "\u001b[0;31mValueError\u001b[0m: could not convert string to float: '@'",
      "\nThe above exception was the direct cause of the following exception:\n",
      "\u001b[0;31mValueError\u001b[0m                                Traceback (most recent call last)",
      "Input \u001b[0;32mIn [36]\u001b[0m, in \u001b[0;36m<cell line: 21>\u001b[0;34m()\u001b[0m\n\u001b[1;32m     19\u001b[0m \u001b[38;5;66;03m# df3\u001b[39;00m\n\u001b[1;32m     20\u001b[0m ax\u001b[38;5;241m.\u001b[39mscatter(x \u001b[38;5;241m-\u001b[39m width \u001b[38;5;241m*\u001b[39m\u001b[38;5;241m1.5\u001b[39m,np\u001b[38;5;241m.\u001b[39marray(df3[\u001b[38;5;124m\"\u001b[39m\u001b[38;5;124mA\u001b[39m\u001b[38;5;124m\"\u001b[39m]),c\u001b[38;5;241m=\u001b[39m\u001b[38;5;124m\"\u001b[39m\u001b[38;5;124mblack\u001b[39m\u001b[38;5;124m\"\u001b[39m,marker\u001b[38;5;241m=\u001b[39m\u001b[38;5;124m\"\u001b[39m\u001b[38;5;124m_\u001b[39m\u001b[38;5;124m\"\u001b[39m,zorder\u001b[38;5;241m=\u001b[39m\u001b[38;5;241m2\u001b[39m)\n\u001b[0;32m---> 21\u001b[0m \u001b[43max\u001b[49m\u001b[38;5;241;43m.\u001b[39;49m\u001b[43mscatter\u001b[49m\u001b[43m(\u001b[49m\u001b[43mx\u001b[49m\u001b[43m \u001b[49m\u001b[38;5;241;43m-\u001b[39;49m\u001b[43m \u001b[49m\u001b[43mwidth\u001b[49m\u001b[38;5;241;43m/\u001b[39;49m\u001b[38;5;241;43m2\u001b[39;49m\u001b[43m,\u001b[49m\u001b[43mnp\u001b[49m\u001b[38;5;241;43m.\u001b[39;49m\u001b[43marray\u001b[49m\u001b[43m(\u001b[49m\u001b[43mdf3\u001b[49m\u001b[43m[\u001b[49m\u001b[38;5;124;43m\"\u001b[39;49m\u001b[38;5;124;43mB\u001b[39;49m\u001b[38;5;124;43m\"\u001b[39;49m\u001b[43m]\u001b[49m\u001b[43m)\u001b[49m\u001b[43m,\u001b[49m\u001b[43mc\u001b[49m\u001b[38;5;241;43m=\u001b[39;49m\u001b[38;5;124;43m\"\u001b[39;49m\u001b[38;5;124;43mblack\u001b[39;49m\u001b[38;5;124;43m\"\u001b[39;49m\u001b[43m,\u001b[49m\u001b[43mmarker\u001b[49m\u001b[38;5;241;43m=\u001b[39;49m\u001b[38;5;124;43m\"\u001b[39;49m\u001b[38;5;124;43m@\u001b[39;49m\u001b[38;5;124;43m\"\u001b[39;49m\u001b[43m,\u001b[49m\u001b[43mzorder\u001b[49m\u001b[38;5;241;43m=\u001b[39;49m\u001b[38;5;241;43m2\u001b[39;49m\u001b[43m)\u001b[49m\n\u001b[1;32m     22\u001b[0m ax\u001b[38;5;241m.\u001b[39mscatter(x \u001b[38;5;241m+\u001b[39m width\u001b[38;5;241m/\u001b[39m\u001b[38;5;241m2\u001b[39m,np\u001b[38;5;241m.\u001b[39marray(df3[\u001b[38;5;124m\"\u001b[39m\u001b[38;5;124mC\u001b[39m\u001b[38;5;124m\"\u001b[39m]),c\u001b[38;5;241m=\u001b[39m\u001b[38;5;124m\"\u001b[39m\u001b[38;5;124mblack\u001b[39m\u001b[38;5;124m\"\u001b[39m,marker\u001b[38;5;241m=\u001b[39m\u001b[38;5;124m\"\u001b[39m\u001b[38;5;124m$\u001b[39m\u001b[38;5;124m\"\u001b[39m,zorder\u001b[38;5;241m=\u001b[39m\u001b[38;5;241m2\u001b[39m)\n",
      "File \u001b[0;32m~/anaconda3/envs/ieee-ner/lib/python3.9/site-packages/matplotlib/__init__.py:1412\u001b[0m, in \u001b[0;36m_preprocess_data.<locals>.inner\u001b[0;34m(ax, data, *args, **kwargs)\u001b[0m\n\u001b[1;32m   1409\u001b[0m \u001b[38;5;129m@functools\u001b[39m\u001b[38;5;241m.\u001b[39mwraps(func)\n\u001b[1;32m   1410\u001b[0m \u001b[38;5;28;01mdef\u001b[39;00m \u001b[38;5;21minner\u001b[39m(ax, \u001b[38;5;241m*\u001b[39margs, data\u001b[38;5;241m=\u001b[39m\u001b[38;5;28;01mNone\u001b[39;00m, \u001b[38;5;241m*\u001b[39m\u001b[38;5;241m*\u001b[39mkwargs):\n\u001b[1;32m   1411\u001b[0m     \u001b[38;5;28;01mif\u001b[39;00m data \u001b[38;5;129;01mis\u001b[39;00m \u001b[38;5;28;01mNone\u001b[39;00m:\n\u001b[0;32m-> 1412\u001b[0m         \u001b[38;5;28;01mreturn\u001b[39;00m \u001b[43mfunc\u001b[49m\u001b[43m(\u001b[49m\u001b[43max\u001b[49m\u001b[43m,\u001b[49m\u001b[43m \u001b[49m\u001b[38;5;241;43m*\u001b[39;49m\u001b[38;5;28;43mmap\u001b[39;49m\u001b[43m(\u001b[49m\u001b[43msanitize_sequence\u001b[49m\u001b[43m,\u001b[49m\u001b[43m \u001b[49m\u001b[43margs\u001b[49m\u001b[43m)\u001b[49m\u001b[43m,\u001b[49m\u001b[43m \u001b[49m\u001b[38;5;241;43m*\u001b[39;49m\u001b[38;5;241;43m*\u001b[39;49m\u001b[43mkwargs\u001b[49m\u001b[43m)\u001b[49m\n\u001b[1;32m   1414\u001b[0m     bound \u001b[38;5;241m=\u001b[39m new_sig\u001b[38;5;241m.\u001b[39mbind(ax, \u001b[38;5;241m*\u001b[39margs, \u001b[38;5;241m*\u001b[39m\u001b[38;5;241m*\u001b[39mkwargs)\n\u001b[1;32m   1415\u001b[0m     auto_label \u001b[38;5;241m=\u001b[39m (bound\u001b[38;5;241m.\u001b[39marguments\u001b[38;5;241m.\u001b[39mget(label_namer)\n\u001b[1;32m   1416\u001b[0m                   \u001b[38;5;129;01mor\u001b[39;00m bound\u001b[38;5;241m.\u001b[39mkwargs\u001b[38;5;241m.\u001b[39mget(label_namer))\n",
      "File \u001b[0;32m~/anaconda3/envs/ieee-ner/lib/python3.9/site-packages/matplotlib/axes/_axes.py:4414\u001b[0m, in \u001b[0;36mAxes.scatter\u001b[0;34m(self, x, y, s, c, marker, cmap, norm, vmin, vmax, alpha, linewidths, edgecolors, plotnonfinite, **kwargs)\u001b[0m\n\u001b[1;32m   4412\u001b[0m     marker_obj \u001b[38;5;241m=\u001b[39m marker\n\u001b[1;32m   4413\u001b[0m \u001b[38;5;28;01melse\u001b[39;00m:\n\u001b[0;32m-> 4414\u001b[0m     marker_obj \u001b[38;5;241m=\u001b[39m \u001b[43mmmarkers\u001b[49m\u001b[38;5;241;43m.\u001b[39;49m\u001b[43mMarkerStyle\u001b[49m\u001b[43m(\u001b[49m\u001b[43mmarker\u001b[49m\u001b[43m)\u001b[49m\n\u001b[1;32m   4416\u001b[0m path \u001b[38;5;241m=\u001b[39m marker_obj\u001b[38;5;241m.\u001b[39mget_path()\u001b[38;5;241m.\u001b[39mtransformed(\n\u001b[1;32m   4417\u001b[0m     marker_obj\u001b[38;5;241m.\u001b[39mget_transform())\n\u001b[1;32m   4418\u001b[0m \u001b[38;5;28;01mif\u001b[39;00m \u001b[38;5;129;01mnot\u001b[39;00m marker_obj\u001b[38;5;241m.\u001b[39mis_filled():\n",
      "File \u001b[0;32m~/anaconda3/envs/ieee-ner/lib/python3.9/site-packages/matplotlib/markers.py:235\u001b[0m, in \u001b[0;36mMarkerStyle.__init__\u001b[0;34m(self, marker, fillstyle)\u001b[0m\n\u001b[1;32m    233\u001b[0m \u001b[38;5;28mself\u001b[39m\u001b[38;5;241m.\u001b[39m_marker_function \u001b[38;5;241m=\u001b[39m \u001b[38;5;28;01mNone\u001b[39;00m\n\u001b[1;32m    234\u001b[0m \u001b[38;5;28mself\u001b[39m\u001b[38;5;241m.\u001b[39m_set_fillstyle(fillstyle)\n\u001b[0;32m--> 235\u001b[0m \u001b[38;5;28;43mself\u001b[39;49m\u001b[38;5;241;43m.\u001b[39;49m\u001b[43m_set_marker\u001b[49m\u001b[43m(\u001b[49m\u001b[43mmarker\u001b[49m\u001b[43m)\u001b[49m\n",
      "File \u001b[0;32m~/anaconda3/envs/ieee-ner/lib/python3.9/site-packages/matplotlib/markers.py:329\u001b[0m, in \u001b[0;36mMarkerStyle._set_marker\u001b[0;34m(self, marker)\u001b[0m\n\u001b[1;32m    327\u001b[0m         \u001b[38;5;28mself\u001b[39m\u001b[38;5;241m.\u001b[39m_marker_function \u001b[38;5;241m=\u001b[39m \u001b[38;5;28mself\u001b[39m\u001b[38;5;241m.\u001b[39m_set_vertices\n\u001b[1;32m    328\u001b[0m     \u001b[38;5;28;01mexcept\u001b[39;00m \u001b[38;5;167;01mValueError\u001b[39;00m \u001b[38;5;28;01mas\u001b[39;00m err:\n\u001b[0;32m--> 329\u001b[0m         \u001b[38;5;28;01mraise\u001b[39;00m \u001b[38;5;167;01mValueError\u001b[39;00m(\u001b[38;5;124m'\u001b[39m\u001b[38;5;124mUnrecognized marker style \u001b[39m\u001b[38;5;132;01m{!r}\u001b[39;00m\u001b[38;5;124m'\u001b[39m\n\u001b[1;32m    330\u001b[0m                          \u001b[38;5;241m.\u001b[39mformat(marker)) \u001b[38;5;28;01mfrom\u001b[39;00m \u001b[38;5;21;01merr\u001b[39;00m\n\u001b[1;32m    332\u001b[0m \u001b[38;5;28;01mif\u001b[39;00m \u001b[38;5;129;01mnot\u001b[39;00m \u001b[38;5;28misinstance\u001b[39m(marker, MarkerStyle):\n\u001b[1;32m    333\u001b[0m     \u001b[38;5;28mself\u001b[39m\u001b[38;5;241m.\u001b[39m_marker \u001b[38;5;241m=\u001b[39m marker\n",
      "\u001b[0;31mValueError\u001b[0m: Unrecognized marker style '@'"
     ]
    },
    {
     "data": {
      "image/png": "[encoded data removed]",
      "text/plain": [
       "<Figure size 432x288 with 1 Axes>"
      ]
     },
     "metadata": {
      "needs_background": "light"
     },
     "output_type": "display_data"
    }
   ],
   "source": [
    "x = np.arange(len(df))\n",
    "width = 0.2\n",
    "\n",
    "fig, ax = plt.subplots()\n",
    "# main dataframe\n",
    "ax.bar(x - width *1.5,np.array(df[\"A\"]),width,label=\"A\")\n",
    "ax.bar(x - width/2 ,np.array(df[\"B\"]),width,label=\"B\")\n",
    "ax.bar(x + width/2 ,np.array(df[\"C\"]),width,label=\"C\")\n",
    "\n",
    "\n",
    "ax.set_xticks(x)\n",
    "ax.legend()\n",
    "\n",
    "# df2\n",
    "ax.scatter(x - width *1.5,np.array(df2[\"A\"]),c=\"black\",marker=\"+\",zorder=2)\n",
    "ax.scatter(x - width/2,np.array(df2[\"B\"]),c=\"black\",marker=\"*\",zorder=2)\n",
    "ax.scatter(x + width/2,np.array(df2[\"C\"]),c=\"black\",marker=\"^\",zorder=2)\n",
    "\n",
    "# df3\n",
    "ax.scatter(x - width *1.5,np.array(df3[\"A\"]),c=\"black\",marker=\"_\",zorder=2)\n",
    "ax.scatter(x - width/2,np.array(df3[\"B\"]),c=\"black\",marker=\"\",zorder=2)\n",
    "ax.scatter(x + width/2,np.array(df3[\"C\"]),c=\"black\",marker=\"$\",zorder=2)"
   ]
  },
  {
   "cell_type": "code",
   "execution_count": null,
   "id": "68b0f3e9",
   "metadata": {},
   "outputs": [],
   "source": []
  },
  {
   "cell_type": "code",
   "execution_count": 254,
   "id": "16b8f8d8",
   "metadata": {},
   "outputs": [],
   "source": [
    "import matplotlib.pyplot as plt\n",
    "import numpy as np"
   ]
  },
  {
   "cell_type": "code",
   "execution_count": 301,
   "id": "761bc8c4",
   "metadata": {},
   "outputs": [],
   "source": [
    "labels = ['Healthy Speech','Dysarthric Speeech', 'BCI Speech']\n",
    "DeepSpeech_Mean =[0.0499, 0.8089, 1.053766667]\n",
    "XLSR_Mean = [0.0256,0.6994333333,1.7248]"
   ]
  },
  {
   "cell_type": "code",
   "execution_count": 302,
   "id": "be2ff818",
   "metadata": {},
   "outputs": [],
   "source": [
    "width = 0.2  # the width of the bars"
   ]
  },
  {
   "cell_type": "code",
   "execution_count": 303,
   "id": "3d9d3ca1",
   "metadata": {},
   "outputs": [
    {
     "data": {
      "image/png": "[encoded data removed]",
      "text/plain": [
       "<Figure size 432x432 with 1 Axes>"
      ]
     },
     "metadata": {
      "needs_background": "light"
     },
     "output_type": "display_data"
    }
   ],
   "source": [
    "fig, ax = plt.subplots(figsize=(6, 6))\n",
    "rects1 = ax.bar(x - width/2, DeepSpeech_Mean, width, label='DeepSpeech')\n",
    "rects2 = ax.bar(x + width/2, XLSR_Mean, width, label='XLSR-wav2vec2-english')\n",
    "\n",
    "ax.scatter(x - width/2, [np.nan, 0.6238, np.nan], c=\"black\",marker=\"+\",zorder=1,s=70,facecolors='none', label='TORGO')#TORGO DeepSpeech\n",
    "ax.scatter(x - width/2, [np.nan, 0.5947, np.nan], c=\"black\",marker=\"_\",zorder=2,s=200,facecolors='none', label='Nemours')#Nemours DeepSpeech\n",
    "ax.scatter(x - width/2, [np.nan, 1.2082, np.nan], c=\"black\",marker=\"*\",zorder=2,s=100,facecolors='none',label='UA Speech')#UA Speech DeepSpeech\n",
    "\n",
    "ax.scatter(x - width/2, [np.nan, np.nan, 1.5085], c=\"black\",marker=\"v\",zorder=1,s=100,facecolors='none',label='Herff et al. 2019')#Christian Herff et al. 2019 Neural Data DeepSpeech\n",
    "ax.scatter(x - width/2, [np.nan, np.nan, 1.0331], c=\"black\",marker=\"^\",zorder=2,s=100,facecolors='none',label='Wilson et al. 2020')#Wilson et al. 2020 DeepSpeech\n",
    "ax.scatter(x - width/2, [np.nan, np.nan, 0.6197], c=\"black\",marker=\"s\",zorder=2,s=100,facecolors='none',label='Anumanchipalli et al. 2019')#Gopala K. Anumanchipalli et al. 2019 DeepSpeech\n",
    "\n",
    "ax.scatter(x + width/2, [np.nan, 0.4327, np.nan], c=\"black\",marker=\"+\",zorder=1,s=70,facecolors='none')#TORGO XLSR\n",
    "ax.scatter(x + width/2, [np.nan, 0.3867, np.nan], c=\"black\",marker=\"_\",zorder=2,s=100,facecolors='none')#Nemours XLSR\n",
    "ax.scatter(x + width/2, [np.nan, 1.2789, np.nan], c=\"black\",marker=\"*\",zorder=2,s=100,facecolors='none',)#UA Speech XLSR\n",
    "\n",
    "ax.scatter(x + width/2, [np.nan, np.nan, 2.3558], c=\"black\",marker=\"v\",zorder=1,s=100,facecolors='none')#Christian Herff et al. 2019 Neural Data XLSR\n",
    "ax.scatter(x + width/2, [np.nan, np.nan, 2.2763], c=\"black\",marker=\"^\",zorder=2,s=100,facecolors='none')#Wilson et al 2020 XLSR\n",
    "ax.scatter(x + width/2, [np.nan, np.nan, 0.5423], c=\"black\",marker=\"s\",zorder=2,s=100,facecolors='none',)#Gopala K. Anumanchipalli et al. 2019 XLSR\n",
    "\n",
    "\n",
    "ax.set_ylabel('CER',fontsize=16,fontstyle='italic')\n",
    "#ax.set_xlabel('Datasets',fontsize=16,fontstyle='italic')\n",
    "#ax.set_title('CER plot for DeepSpeech and XLSR')\n",
    "ax.set_xticks(x, labels)\n",
    "ax.yaxis.set_ticks(np.arange(0, 3.5, 0.5))\n",
    "ax.tick_params(axis='both', which='major', labelsize=14)\n",
    "ax.tick_params(axis='both', which='minor', labelsize=18)\n",
    "#ax.legend( prop={'size': 10})\n",
    "\n",
    "#ax.bar_label(rects1, padding=3)\n",
    "#ax.bar_label(rects2, padding=3)\n",
    "ax.patch.set_edgecolor('black')  \n",
    "\n",
    "ax.patch.set_linewidth('1')  \n",
    "\n",
    "fig.tight_layout(pad=0)\n",
    "\n",
    "#plt.show()\n",
    "plt.savefig('CER.png',dpi=300, bbox_inches = \"tight\")"
   ]
  },
  {
   "cell_type": "code",
   "execution_count": 276,
   "id": "1c2df1a9",
   "metadata": {},
   "outputs": [
    {
     "data": {
      "text/plain": [
       "array([2.])"
      ]
     },
     "execution_count": 276,
     "metadata": {},
     "output_type": "execute_result"
    }
   ],
   "source": [
    "np.arange(2, 2.5, 0.5)"
   ]
  },
  {
   "cell_type": "code",
   "execution_count": 259,
   "id": "85f0e592",
   "metadata": {},
   "outputs": [],
   "source": [
    "x=np.array([0.5,1.5,2.5])"
   ]
  },
  {
   "cell_type": "code",
   "execution_count": 304,
   "id": "065b6173",
   "metadata": {},
   "outputs": [],
   "source": [
    "width = 0.2\n",
    "#x = np.arange(len(df))"
   ]
  },
  {
   "cell_type": "code",
   "execution_count": 305,
   "id": "55b14ef6",
   "metadata": {},
   "outputs": [],
   "source": [
    "labels = ['Healthy Speech','Dysarthric Speeech', 'BCI Speech']\n",
    "DeepSpeech_Mean =[0.1545,1.116633333,1.194166667]\n",
    "XLSR_Mean = [0.0844,0.9684,2.0234]\n",
    "Kaldi_DNN = [0.1619,1.229933333,1.896133333]"
   ]
  },
  {
   "cell_type": "code",
   "execution_count": 306,
   "id": "076bc833",
   "metadata": {},
   "outputs": [
    {
     "data": {
      "image/png": "[encoded data removed]",
      "text/plain": [
       "<Figure size 432x432 with 1 Axes>"
      ]
     },
     "metadata": {
      "needs_background": "light"
     },
     "output_type": "display_data"
    }
   ],
   "source": [
    "fig, ax = plt.subplots(figsize=(6, 6))\n",
    "rects1 = ax.bar(x - width*1.5, DeepSpeech_Mean, width, label='DeepSpeech')\n",
    "rects2 = ax.bar(x - width/2, XLSR_Mean, width, label='XLSR-wav2vec2-english')\n",
    "rects2 = ax.bar(x + width/2, Kaldi_DNN, width, label='Kaldi')\n",
    "\n",
    "\n",
    "ax.scatter(x - width*1.5, [np.nan, 0.8933, np.nan], c=\"black\",marker=\"+\",zorder=1,s=70,facecolors='none', label='TORGO')#TORGO DeepSpeech\n",
    "ax.scatter(x - width*1.5, [np.nan, 0.8745, np.nan], c=\"black\",marker=\"_\",zorder=2,s=200,facecolors='none', label='Nemours')#Nemours DeepSpeech\n",
    "ax.scatter(x - width*1.5, [np.nan, 1.5821, np.nan], c=\"black\",marker=\"*\",zorder=2,s=100,facecolors='none',label='UA Speech')#UA Speech DeepSpeech\n",
    "\n",
    "ax.scatter(x - width*1.5, [np.nan, np.nan, 1.4066], c=\"black\",marker=\"v\",zorder=1,s=100,facecolors='none',label='Herff et al. 2019')#Christian Herff et al. 2019 Neural Data DeepSpeech\n",
    "ax.scatter(x - width*1.5, [np.nan, np.nan, 1.0455], c=\"black\",marker=\"^\",zorder=2,s=100,facecolors='none',label='Wilson et al. 2020')#Wilson et al. 2020 DeepSpeech\n",
    "ax.scatter(x - width*1.5, [np.nan, np.nan, 1.1304], c=\"black\",marker=\"s\",zorder=2,s=100,facecolors='none',label='Anumanchipalli et al. 2019')#Gopala K. Anumanchipalli et al. 2019 DeepSpeech\n",
    "\n",
    "ax.scatter(x - width/2, [np.nan, 0.7382, np.nan], c=\"black\",marker=\"+\",zorder=1,s=70,facecolors='none')#TORGO XLSR\n",
    "ax.scatter(x - width/2, [np.nan, 0.6231, np.nan], c=\"black\",marker=\"_\",zorder=2,s=100,facecolors='none')#Nemours XLSR\n",
    "ax.scatter(x - width/2, [np.nan, 1.5439, np.nan], c=\"black\",marker=\"*\",zorder=2,s=100,facecolors='none',)#UA Speech XLSR\n",
    "\n",
    "ax.scatter(x - width/2, [np.nan, np.nan, 2.6432], c=\"black\",marker=\"v\",zorder=1,s=100,facecolors='none')#Christian Herff et al. 2019 Neural Data XLSR\n",
    "ax.scatter(x - width/2, [np.nan, np.nan, 2.4705], c=\"black\",marker=\"^\",zorder=2,s=100,facecolors='none')#Wilson et al 2020 XLSR\n",
    "ax.scatter(x - width/2, [np.nan, np.nan, 0.9565], c=\"black\",marker=\"s\",zorder=2,s=100,facecolors='none',)#Gopala K. Anumanchipalli et al. 2019 XLSR\n",
    "\n",
    "\n",
    "\n",
    "ax.scatter(x + width/2, [np.nan, 0.9617, np.nan], c=\"black\",marker=\"+\",zorder=1,s=70,facecolors='none')#TORGO Kaldi\n",
    "ax.scatter(x + width/2, [np.nan, 0.9137, np.nan], c=\"black\",marker=\"_\",zorder=2,s=100,facecolors='none')#Nemours Kaldi\n",
    "ax.scatter(x + width/2, [np.nan, 1.8144, np.nan], c=\"black\",marker=\"*\",zorder=2,s=100,facecolors='none',)#UA Speech Kaldi\n",
    "\n",
    "ax.scatter(x + width/2, [np.nan, np.nan, 2.1842], c=\"black\",marker=\"v\",zorder=1,s=100,facecolors='none')#Christian Herff et al. 2019 Neural Data Kaldi\n",
    "ax.scatter(x + width/2, [np.nan, np.nan, 1.9671], c=\"black\",marker=\"^\",zorder=2,s=100,facecolors='none')#Wilson et al 2020 Kaldi\n",
    "ax.scatter(x + width/2, [np.nan, np.nan, 1.5371], c=\"black\",marker=\"s\",zorder=2,s=100,facecolors='none',)#Gopala K. Anumanchipalli et al. 2019 Kaldi\n",
    "\n",
    "\n",
    "\n",
    "\n",
    "ax.set_ylabel('WER',fontsize=16,fontstyle='italic')\n",
    "#ax.set_xlabel('Datasets',fontsize=16,fontstyle='italic')\n",
    "#ax.set_title('CER plot for DeepSpeech and XLSR')\n",
    "ax.set_xticks(x, labels)\n",
    "ax.yaxis.set_ticks(np.arange(0, 3.5, 0.5))\n",
    "ax.tick_params(axis='both', which='major', labelsize=14)\n",
    "ax.tick_params(axis='both', which='minor', labelsize=18)\n",
    "ax.legend( prop={'size': 10})\n",
    "\n",
    "#ax.bar_label(rects1, padding=3)\n",
    "#ax.bar_label(rects2, padding=3)\n",
    "\n",
    "\n",
    "fig.tight_layout(pad=0)\n",
    "\n",
    "#plt.show()\n",
    "plt.savefig('WER.png',dpi=300, bbox_inches = \"tight\")"
   ]
  },
  {
   "cell_type": "code",
   "execution_count": null,
   "id": "6444e403",
   "metadata": {},
   "outputs": [],
   "source": []
  },
  {
   "cell_type": "code",
   "execution_count": 307,
   "id": "7f50b93a",
   "metadata": {},
   "outputs": [],
   "source": [
    "labels = ['Healthy Speech','Dysarthric Speeech', 'BCI Speech']\n",
    "Kaldi_Mean =[0.1228,1.1411,1.631333333]\n",
    "XLSR_Mean = [0.0827,0.4514666667,1.437633333]"
   ]
  },
  {
   "cell_type": "code",
   "execution_count": 308,
   "id": "df73769e",
   "metadata": {},
   "outputs": [],
   "source": [
    "width = 0.2  # the width of the bars"
   ]
  },
  {
   "cell_type": "code",
   "execution_count": 309,
   "id": "6bbede79",
   "metadata": {},
   "outputs": [],
   "source": [
    "x=np.array([0.5,1.5,2.5])"
   ]
  },
  {
   "cell_type": "code",
   "execution_count": 310,
   "id": "bbb0b03d",
   "metadata": {},
   "outputs": [
    {
     "data": {
      "image/png": "[encoded data removed]",
      "text/plain": [
       "<Figure size 432x432 with 1 Axes>"
      ]
     },
     "metadata": {
      "needs_background": "light"
     },
     "output_type": "display_data"
    }
   ],
   "source": [
    "fig, ax = plt.subplots(figsize=(6, 6))\n",
    "rects1 = ax.bar(x - width/2, Kaldi_Mean, width, label='Kaldi')\n",
    "rects2 = ax.bar(x + width/2, XLSR_Mean, width, label='XLSR-wav2vec2-cv-ft')\n",
    "\n",
    "ax.scatter(x - width/2, [np.nan, 0.9273, np.nan], c=\"black\",marker=\"+\",zorder=1,s=70,facecolors='none', label='TORGO')#TORGO Kaldi\n",
    "ax.scatter(x - width/2, [np.nan, 0.8131, np.nan], c=\"black\",marker=\"_\",zorder=2,s=200,facecolors='none', label='Nemours')#Nemours Kaldi\n",
    "ax.scatter(x - width/2, [np.nan, 1.6829, np.nan], c=\"black\",marker=\"*\",zorder=2,s=100,facecolors='none',label='UA Speech')#UA Speech Kaldi\n",
    "\n",
    "ax.scatter(x - width/2, [np.nan, np.nan, 1.9821], c=\"black\",marker=\"v\",zorder=1,s=100,facecolors='none',label='Herff et al. 2019')#Christian Herff et al. 2019 Neural Data Kaldi\n",
    "ax.scatter(x - width/2, [np.nan, np.nan, 1.6935], c=\"black\",marker=\"^\",zorder=2,s=100,facecolors='none',label='Wilson et al. 2020')#Wilson et al. 2020 Kaldi\n",
    "ax.scatter(x - width/2, [np.nan, np.nan, 1.2184], c=\"black\",marker=\"s\",zorder=2,s=100,facecolors='none',label='Anumanchipalli et al. 2019')#Gopala K. Anumanchipalli et al. 2019 Kaldi\n",
    "\n",
    "ax.scatter(x + width/2, [np.nan, 0.4105, np.nan], c=\"black\",marker=\"+\",zorder=1,s=70,facecolors='none')#TORGO XLSR\n",
    "ax.scatter(x + width/2, [np.nan, 0.3245, np.nan], c=\"black\",marker=\"_\",zorder=2,s=100,facecolors='none')#Nemours XLSR\n",
    "ax.scatter(x + width/2, [np.nan, 0.6194, np.nan], c=\"black\",marker=\"*\",zorder=2,s=100,facecolors='none',)#UA Speech XLSR\n",
    "\n",
    "ax.scatter(x + width/2, [np.nan, np.nan, 1.8534], c=\"black\",marker=\"v\",zorder=1,s=100,facecolors='none')#Christian Herff et al. 2019 Neural Data XLSR\n",
    "ax.scatter(x + width/2, [np.nan, np.nan, 2.0648], c=\"black\",marker=\"^\",zorder=2,s=100,facecolors='none')#Wilson et al 2020 XLSR\n",
    "ax.scatter(x + width/2, [np.nan, np.nan, 0.3947], c=\"black\",marker=\"s\",zorder=2,s=100,facecolors='none',)#Gopala K. Anumanchipalli et al. 2019 XLSR\n",
    "\n",
    "\n",
    "ax.set_ylabel('PER',fontsize=16,fontstyle='italic')\n",
    "#ax.set_xlabel('Datasets',fontsize=16,fontstyle='italic')\n",
    "#ax.set_title('CER plot for DeepSpeech and XLSR')\n",
    "ax.set_xticks(x, labels)\n",
    "ax.yaxis.set_ticks(np.arange(0, 3.5, 0.5))\n",
    "ax.tick_params(axis='both', which='major', labelsize=14)\n",
    "ax.tick_params(axis='both', which='minor', labelsize=18)\n",
    "#ax.legend( prop={'size': 10})\n",
    "\n",
    "#ax.bar_label(rects1, padding=3)\n",
    "#ax.bar_label(rects2, padding=3)\n",
    "\n",
    "\n",
    "fig.tight_layout(pad=0)\n",
    "\n",
    "#plt.show()\n",
    "plt.savefig('PER.png',dpi=300, bbox_inches = \"tight\")"
   ]
  },
  {
   "cell_type": "code",
   "execution_count": null,
   "id": "9f94f88c",
   "metadata": {},
   "outputs": [],
   "source": []
  },
  {
   "cell_type": "code",
   "execution_count": null,
   "id": "dc68ddc8",
   "metadata": {},
   "outputs": [],
   "source": []
  },
  {
   "cell_type": "code",
   "execution_count": null,
   "id": "554dff00",
   "metadata": {},
   "outputs": [],
   "source": []
  },
  {
   "cell_type": "code",
   "execution_count": 311,
   "id": "9b198c18",
   "metadata": {},
   "outputs": [],
   "source": [
    "#Values for Assignment"
   ]
  },
  {
   "cell_type": "code",
   "execution_count": 312,
   "id": "fcc8b728",
   "metadata": {},
   "outputs": [],
   "source": [
    "import matplotlib.pyplot as plt\n",
    "import numpy as np"
   ]
  },
  {
   "cell_type": "code",
   "execution_count": 313,
   "id": "2f5c6c9d",
   "metadata": {},
   "outputs": [],
   "source": [
    "x=np.array([2,4,6])"
   ]
  },
  {
   "cell_type": "code",
   "execution_count": 314,
   "id": "7ea85e10",
   "metadata": {},
   "outputs": [],
   "source": [
    "width = 0.2\n",
    "#x = np.arange(len(df))"
   ]
  },
  {
   "cell_type": "code",
   "execution_count": 354,
   "id": "48c764c0",
   "metadata": {},
   "outputs": [],
   "source": [
    "labels = ['Nemours','TORGO', 'UA Sspeech']\n",
    "DeepSpeech_b =[0.87,0.89,1.58]\n",
    "XLSR_b = [0.81,0.85,1.34]\n",
    "DeepSpeech_a =[0.67,0.71,1.32]\n",
    "XLSR_a = [0.62,0.74,1.22]"
   ]
  },
  {
   "cell_type": "code",
   "execution_count": 355,
   "id": "1b43df62",
   "metadata": {},
   "outputs": [
    {
     "data": {
      "image/png": "[encoded data removed]",
      "text/plain": [
       "<Figure size 432x432 with 1 Axes>"
      ]
     },
     "metadata": {
      "needs_background": "light"
     },
     "output_type": "display_data"
    }
   ],
   "source": [
    "#WER\n",
    "fig, ax = plt.subplots(figsize=(6, 6))\n",
    "rects1 = ax.bar(x - width*2, DeepSpeech_b, width, label='DeepSpeech before Training')\n",
    "rects2 = ax.bar(x - width*0.5, DeepSpeech_a, width, label='DeepSpeech After Training')\n",
    "rects3 = ax.bar(x + width*1, XLSR_b, width, label='XLSR_before Fine Tuning')\n",
    "rects4 = ax.bar(x + width*2.5, XLSR_a, width, label='XLSR_before After Tuning')\n",
    "\n",
    "\n",
    "\n",
    "\n",
    "ax.set_ylabel('WER',fontsize=16,fontstyle='italic')\n",
    "ax.set_xlabel('Datasets',fontsize=16,fontstyle='italic')\n",
    "#ax.set_title('CER plot for DeepSpeech and XLSR')\n",
    "ax.set_xticks(x, labels)\n",
    "ax.yaxis.set_ticks(np.arange(0, 2.5, 0.5))\n",
    "ax.tick_params(axis='both', which='major', labelsize=14)\n",
    "ax.tick_params(axis='both', which='minor', labelsize=18)\n",
    "ax.legend( prop={'size': 10})\n",
    "\n",
    "ax.bar_label(rects1, padding=3)\n",
    "ax.bar_label(rects2, padding=3)\n",
    "ax.bar_label(rects3, padding=3)\n",
    "ax.bar_label(rects4, padding=3)\n",
    "\n",
    "\n",
    "fig.tight_layout(pad=0)\n",
    "\n",
    "#plt.show()\n",
    "plt.savefig('WER-289G.png',dpi=300, bbox_inches = \"tight\")"
   ]
  },
  {
   "cell_type": "code",
   "execution_count": null,
   "id": "8dc3bd40",
   "metadata": {},
   "outputs": [],
   "source": []
  },
  {
   "cell_type": "code",
   "execution_count": 356,
   "id": "6a7cafb7",
   "metadata": {},
   "outputs": [],
   "source": [
    "labels = ['Nemours','TORGO', 'UA Sspeech']\n",
    "DeepSpeech_b =[0.59,0.62,1.20]\n",
    "XLSR_b = [0.58,0.53,1.15]\n",
    "DeepSpeech_a =[0.48,0.5,0.94]\n",
    "XLSR_a = [0.38,0.43,1.04]"
   ]
  },
  {
   "cell_type": "code",
   "execution_count": 357,
   "id": "7246c5a5",
   "metadata": {},
   "outputs": [
    {
     "data": {
      "image/png": "[encoded data removed]",
      "text/plain": [
       "<Figure size 432x432 with 1 Axes>"
      ]
     },
     "metadata": {
      "needs_background": "light"
     },
     "output_type": "display_data"
    }
   ],
   "source": [
    "#CER\n",
    "#WER\n",
    "fig, ax = plt.subplots(figsize=(6, 6))\n",
    "rects1 = ax.bar(x - width*2, DeepSpeech_b, width, label='DeepSpeech before Training')\n",
    "rects2 = ax.bar(x - width*0.5, DeepSpeech_a, width, label='DeepSpeech After Training')\n",
    "rects3 = ax.bar(x + width*1, XLSR_b, width, label='XLSR_before Fine Tuning')\n",
    "rects4 = ax.bar(x + width*2.5, XLSR_a, width, label='XLSR_before After Tuning')\n",
    "\n",
    "\n",
    "\n",
    "\n",
    "ax.set_ylabel('CER',fontsize=16,fontstyle='italic')\n",
    "ax.set_xlabel('Datasets',fontsize=16,fontstyle='italic')\n",
    "#ax.set_title('CER plot for DeepSpeech and XLSR')\n",
    "ax.set_xticks(x, labels)\n",
    "ax.yaxis.set_ticks(np.arange(0, 2.5, 0.5))\n",
    "ax.tick_params(axis='both', which='major', labelsize=14)\n",
    "ax.tick_params(axis='both', which='minor', labelsize=18)\n",
    "ax.legend( prop={'size': 10})\n",
    "\n",
    "ax.bar_label(rects1, padding=3)\n",
    "ax.bar_label(rects2, padding=3)\n",
    "ax.bar_label(rects3, padding=3)\n",
    "ax.bar_label(rects4, padding=3)\n",
    "\n",
    "\n",
    "fig.tight_layout(pad=0)\n",
    "\n",
    "#plt.show()\n",
    "plt.savefig('CER-289G.png',dpi=300, bbox_inches = \"tight\")"
   ]
  },
  {
   "cell_type": "code",
   "execution_count": null,
   "id": "75b877fc",
   "metadata": {},
   "outputs": [],
   "source": []
  }
 ],
 "metadata": {
  "kernelspec": {
   "display_name": "Python 3 (ipykernel)",
   "language": "python",
   "name": "python3"
  },
  "language_info": {
   "codemirror_mode": {
    "name": "ipython",
    "version": 3
   },
   "file_extension": ".py",
   "mimetype": "text/x-python",
   "name": "python",
   "nbconvert_exporter": "python",
   "pygments_lexer": "ipython3",
   "version": "3.9.12"
  }
 },
 "nbformat": 4,
 "nbformat_minor": 5
}
